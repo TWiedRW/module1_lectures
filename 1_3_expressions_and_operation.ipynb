{
  "nbformat": 4,
  "nbformat_minor": 0,
  "metadata": {
    "anaconda-cloud": {},
    "celltoolbar": "Slideshow",
    "kernelspec": {
      "display_name": "Python 3",
      "language": "python",
      "name": "python3"
    },
    "language_info": {
      "codemirror_mode": {
        "name": "ipython",
        "version": 3
      },
      "file_extension": ".py",
      "mimetype": "text/x-python",
      "name": "python",
      "nbconvert_exporter": "python",
      "pygments_lexer": "ipython3",
      "version": "3.7.2"
    },
    "nbpresent": {
      "slides": {
        "d8cfa8b7-18e5-4d2f-8e92-8164c8bfad3b": {
          "id": "d8cfa8b7-18e5-4d2f-8e92-8164c8bfad3b",
          "prev": null,
          "regions": {
            "81231d63-4899-45f2-b382-fabf4f762896": {
              "attrs": {
                "height": 0.8,
                "width": 0.45,
                "x": 0.5,
                "y": 0.1
              },
              "id": "81231d63-4899-45f2-b382-fabf4f762896"
            },
            "b40d103d-8d7f-44de-8fca-19b2f9861cdd": {
              "attrs": {
                "height": 0.8,
                "width": 0.45,
                "x": 0.05,
                "y": 0.1
              },
              "id": "b40d103d-8d7f-44de-8fca-19b2f9861cdd"
            }
          }
        }
      },
      "themes": {}
    },
    "colab": {
      "name": "1_3_expressions_and_operation.ipynb",
      "provenance": [],
      "include_colab_link": true
    }
  },
  "cells": [
    {
      "cell_type": "markdown",
      "metadata": {
        "id": "view-in-github",
        "colab_type": "text"
      },
      "source": [
        "<a href=\"https://colab.research.google.com/github/TWiedRW/module1_lectures/blob/master/1_3_expressions_and_operation.ipynb\" target=\"_parent\"><img src=\"https://colab.research.google.com/assets/colab-badge.svg\" alt=\"Open In Colab\"/></a>"
      ]
    },
    {
      "cell_type": "markdown",
      "metadata": {
        "nbpresent": {
          "id": "72b0ede6-af2b-41e9-81af-16c345e658d3"
        },
        "id": "iMhnJ7gj1ud5",
        "colab_type": "text"
      },
      "source": [
        "# Expressions and Functions\n",
        "\n",
        "## Objectives\n",
        "\n",
        "1. Introduce basic Python expressions for transforming data\n",
        "    1. Arithmetic\n",
        "    2. Boolean\n",
        "2. Use the conditional expression for situational expressions"
      ]
    },
    {
      "cell_type": "markdown",
      "metadata": {
        "nbpresent": {
          "id": "d6ce38da-dd5e-49ae-96d9-a13b7c588c7f"
        },
        "id": "ThFBMCy21ud8",
        "colab_type": "text"
      },
      "source": [
        "## Expressions and Statements\n",
        "\n",
        "* Two types of Python code\n",
        "* **statements** \"Do this\"\n",
        "    * Does not return/evaluate to a value\n",
        "    * Often contain expressions\n",
        "* **expressions** \"Compute this value\"\n",
        "    * Allows returns data\n",
        "* I prefer expressions"
      ]
    },
    {
      "cell_type": "code",
      "metadata": {
        "nbpresent": {
          "id": "3394c082-f660-4228-8b52-a46f2e9c02de"
        },
        "id": "5ZlA_D-X1ud-",
        "colab_type": "code",
        "colab": {
          "base_uri": "https://localhost:8080/",
          "height": 34
        },
        "outputId": "37a509c6-cf9d-441d-f0dc-78a7e6e1b5b6"
      },
      "source": [
        "sum([1,2,3]) # expression (returns 6)"
      ],
      "execution_count": 1,
      "outputs": [
        {
          "output_type": "execute_result",
          "data": {
            "text/plain": [
              "6"
            ]
          },
          "metadata": {
            "tags": []
          },
          "execution_count": 1
        }
      ]
    },
    {
      "cell_type": "code",
      "metadata": {
        "nbpresent": {
          "id": "348801b9-66cf-4248-81c6-32b52ca127e8"
        },
        "id": "KaArhloS1ueS",
        "colab_type": "code",
        "colab": {}
      },
      "source": [
        "x = sum([1,2,3]) # assignment statement (no value)"
      ],
      "execution_count": 61,
      "outputs": []
    },
    {
      "cell_type": "code",
      "metadata": {
        "nbpresent": {
          "id": "5b62bd9c-ca01-40c1-9913-e2c73f9188f6"
        },
        "id": "yvmTTkq81ueb",
        "colab_type": "code",
        "colab": {
          "base_uri": "https://localhost:8080/",
          "height": 34
        },
        "outputId": "65c9d269-0d5f-4252-aec5-a2068ba3dd96"
      },
      "source": [
        "x # Expression (returns value assigned to x)"
      ],
      "execution_count": 45,
      "outputs": [
        {
          "output_type": "execute_result",
          "data": {
            "text/plain": [
              "6"
            ]
          },
          "metadata": {
            "tags": []
          },
          "execution_count": 45
        }
      ]
    },
    {
      "cell_type": "markdown",
      "metadata": {
        "nbpresent": {
          "id": "277549e7-ddfe-439c-b7dc-4e257ff97426"
        },
        "id": "ug1xszz_1ueg",
        "colab_type": "text"
      },
      "source": [
        "## Arithmetic operations"
      ]
    },
    {
      "cell_type": "code",
      "metadata": {
        "nbpresent": {
          "id": "de77acd8-a6ab-4026-9378-05a77c73ed46"
        },
        "id": "xHIeMj6e1ueh",
        "colab_type": "code",
        "colab": {
          "base_uri": "https://localhost:8080/",
          "height": 34
        },
        "outputId": "5dbf8596-0bcc-4999-ea26-3f55a843c9ce"
      },
      "source": [
        "2 + 3.5"
      ],
      "execution_count": 5,
      "outputs": [
        {
          "output_type": "execute_result",
          "data": {
            "text/plain": [
              "5.5"
            ]
          },
          "metadata": {
            "tags": []
          },
          "execution_count": 5
        }
      ]
    },
    {
      "cell_type": "code",
      "metadata": {
        "nbpresent": {
          "id": "9b572828-abc5-4f12-9f11-d444f1488019"
        },
        "id": "5U6LgLdQ1ueq",
        "colab_type": "code",
        "colab": {
          "base_uri": "https://localhost:8080/",
          "height": 34
        },
        "outputId": "2ef91de2-4e56-4373-b7b4-1a64aa719696"
      },
      "source": [
        "2 - 3.5 "
      ],
      "execution_count": 6,
      "outputs": [
        {
          "output_type": "execute_result",
          "data": {
            "text/plain": [
              "-1.5"
            ]
          },
          "metadata": {
            "tags": []
          },
          "execution_count": 6
        }
      ]
    },
    {
      "cell_type": "code",
      "metadata": {
        "nbpresent": {
          "id": "f14f2894-1b57-4dec-8eaf-72364fb0ec22"
        },
        "id": "MqtXhibB1ueu",
        "colab_type": "code",
        "colab": {
          "base_uri": "https://localhost:8080/",
          "height": 34
        },
        "outputId": "cfe4fa84-c85e-4816-af63-2c53cfbda42f"
      },
      "source": [
        "2*3.5"
      ],
      "execution_count": 7,
      "outputs": [
        {
          "output_type": "execute_result",
          "data": {
            "text/plain": [
              "7.0"
            ]
          },
          "metadata": {
            "tags": []
          },
          "execution_count": 7
        }
      ]
    },
    {
      "cell_type": "code",
      "metadata": {
        "nbpresent": {
          "id": "0283e446-51ff-49c6-95c1-7df0331373e8"
        },
        "id": "OllEFInS1uex",
        "colab_type": "code",
        "colab": {
          "base_uri": "https://localhost:8080/",
          "height": 34
        },
        "outputId": "43ac2870-aa12-4b90-9a94-ad59eae364ce"
      },
      "source": [
        "2/3 # True division"
      ],
      "execution_count": 8,
      "outputs": [
        {
          "output_type": "execute_result",
          "data": {
            "text/plain": [
              "0.6666666666666666"
            ]
          },
          "metadata": {
            "tags": []
          },
          "execution_count": 8
        }
      ]
    },
    {
      "cell_type": "code",
      "metadata": {
        "nbpresent": {
          "id": "1cbfb777-d4fa-4364-8b4d-7316398849d2"
        },
        "id": "wtlI4EwR1ue3",
        "colab_type": "code",
        "colab": {
          "base_uri": "https://localhost:8080/",
          "height": 34
        },
        "outputId": "c12b9176-6842-46ab-8227-266c29a5b9a8"
      },
      "source": [
        "10//3 # Integer division"
      ],
      "execution_count": 11,
      "outputs": [
        {
          "output_type": "execute_result",
          "data": {
            "text/plain": [
              "3"
            ]
          },
          "metadata": {
            "tags": []
          },
          "execution_count": 11
        }
      ]
    },
    {
      "cell_type": "code",
      "metadata": {
        "nbpresent": {
          "id": "5eb71879-541d-4d2f-8d0b-03b1936784be"
        },
        "id": "R30etW4e1ue5",
        "colab_type": "code",
        "colab": {
          "base_uri": "https://localhost:8080/",
          "height": 34
        },
        "outputId": "db664781-7c65-47d5-a943-aeb517af16e8"
      },
      "source": [
        "10 % 3 # Mod/remainder"
      ],
      "execution_count": 12,
      "outputs": [
        {
          "output_type": "execute_result",
          "data": {
            "text/plain": [
              "1"
            ]
          },
          "metadata": {
            "tags": []
          },
          "execution_count": 12
        }
      ]
    },
    {
      "cell_type": "markdown",
      "metadata": {
        "id": "QluMPTIh1ue9",
        "colab_type": "text"
      },
      "source": [
        "<font color=\"red\"><h2>Exercise</h2></font>\n",
        "\n",
        "The hour hand is pointing at 8, what will it point to in 57 hours?"
      ]
    },
    {
      "cell_type": "code",
      "metadata": {
        "id": "LzocompY1ue9",
        "colab_type": "code",
        "colab": {
          "base_uri": "https://localhost:8080/",
          "height": 34
        },
        "outputId": "b2eeab4d-40e4-4641-c779-52623ff12355"
      },
      "source": [
        "(8+57) % 12"
      ],
      "execution_count": 13,
      "outputs": [
        {
          "output_type": "execute_result",
          "data": {
            "text/plain": [
              "5"
            ]
          },
          "metadata": {
            "tags": []
          },
          "execution_count": 13
        }
      ]
    },
    {
      "cell_type": "code",
      "metadata": {
        "nbpresent": {
          "id": "d2f5f5a1-1f01-4036-8bdb-c9dd4f3a6999"
        },
        "id": "IoYb-Epg1ue_",
        "colab_type": "code",
        "colab": {},
        "outputId": "b6cb3bc7-8cfd-420a-f12e-d6338e09c4b2"
      },
      "source": [
        "2 ** 3 # Powers!"
      ],
      "execution_count": null,
      "outputs": [
        {
          "output_type": "execute_result",
          "data": {
            "text/plain": [
              "8"
            ]
          },
          "metadata": {
            "tags": []
          },
          "execution_count": 15
        }
      ]
    },
    {
      "cell_type": "code",
      "metadata": {
        "nbpresent": {
          "id": "f79150cf-6794-48bb-b703-eb963b40cc06"
        },
        "id": "tFS3YigI1ufA",
        "colab_type": "code",
        "colab": {},
        "outputId": "38c98f31-f233-4c7d-b087-5db274ff589d"
      },
      "source": [
        "2 ^ 3 # BEWARE: bitwise exclusive or"
      ],
      "execution_count": null,
      "outputs": [
        {
          "output_type": "execute_result",
          "data": {
            "text/plain": [
              "1"
            ]
          },
          "metadata": {
            "tags": []
          },
          "execution_count": 18
        }
      ]
    },
    {
      "cell_type": "markdown",
      "metadata": {
        "nbpresent": {
          "id": "a9702cc1-1da0-4d6b-8198-835ac55fd9eb"
        },
        "id": "1FZxi95A1ufB",
        "colab_type": "text"
      },
      "source": [
        "### <font color=\"red\"> Exercise 1</font>\n",
        "Investigate which operations can be applied to two strings, say `\"a\"` and `\"b\"`.\n"
      ]
    },
    {
      "cell_type": "code",
      "metadata": {
        "nbpresent": {
          "id": "78a2f194-f4ff-466a-8921-7012b6d551b0"
        },
        "id": "gjJ-WRZi1ufC",
        "colab_type": "code",
        "colab": {
          "base_uri": "https://localhost:8080/",
          "height": 36
        },
        "outputId": "85778521-0fa6-44bb-d241-774a8bc381a5"
      },
      "source": [
        "'a' + 'b'"
      ],
      "execution_count": 25,
      "outputs": [
        {
          "output_type": "execute_result",
          "data": {
            "application/vnd.google.colaboratory.intrinsic+json": {
              "type": "string"
            },
            "text/plain": [
              "'ab'"
            ]
          },
          "metadata": {
            "tags": []
          },
          "execution_count": 25
        }
      ]
    },
    {
      "cell_type": "code",
      "metadata": {
        "id": "JHP7zkgo4eIV",
        "colab_type": "code",
        "colab": {
          "base_uri": "https://localhost:8080/",
          "height": 34
        },
        "outputId": "597ef3da-5a66-42fa-8562-98e454086707"
      },
      "source": [
        "'a' == 'b'"
      ],
      "execution_count": 26,
      "outputs": [
        {
          "output_type": "execute_result",
          "data": {
            "text/plain": [
              "False"
            ]
          },
          "metadata": {
            "tags": []
          },
          "execution_count": 26
        }
      ]
    },
    {
      "cell_type": "markdown",
      "metadata": {
        "nbpresent": {
          "id": "2812ca09-3cd1-43c1-aefd-05fbea612c57"
        },
        "id": "d7vNcC_R1ufE",
        "colab_type": "text"
      },
      "source": [
        "### <font color=\"red\"> Exercise 2 </font>\n",
        "\n",
        "Investigate various operations on `2` and `\"a\"`"
      ]
    },
    {
      "cell_type": "code",
      "metadata": {
        "id": "yqBd3CmR3qRw",
        "colab_type": "code",
        "colab": {
          "base_uri": "https://localhost:8080/",
          "height": 36
        },
        "outputId": "2587b99f-3ccd-49df-8316-7c868a9797b5"
      },
      "source": [
        "2 * 'a'"
      ],
      "execution_count": 28,
      "outputs": [
        {
          "output_type": "execute_result",
          "data": {
            "application/vnd.google.colaboratory.intrinsic+json": {
              "type": "string"
            },
            "text/plain": [
              "'aa'"
            ]
          },
          "metadata": {
            "tags": []
          },
          "execution_count": 28
        }
      ]
    },
    {
      "cell_type": "code",
      "metadata": {
        "id": "pf0q0nQ44i9H",
        "colab_type": "code",
        "colab": {
          "base_uri": "https://localhost:8080/",
          "height": 34
        },
        "outputId": "530aefcf-a180-4076-b28f-bc56b6b6a905"
      },
      "source": [
        "2 == 'a'"
      ],
      "execution_count": 29,
      "outputs": [
        {
          "output_type": "execute_result",
          "data": {
            "text/plain": [
              "False"
            ]
          },
          "metadata": {
            "tags": []
          },
          "execution_count": 29
        }
      ]
    },
    {
      "cell_type": "code",
      "metadata": {
        "nbpresent": {
          "id": "c5667754-7de7-401f-989b-88c209c6ea82"
        },
        "id": "kTj76-6t1ufI",
        "colab_type": "code",
        "colab": {},
        "outputId": "fc785bb3-ed9e-4aed-daa7-698955484d41"
      },
      "source": [
        "2 + 3.0"
      ],
      "execution_count": null,
      "outputs": [
        {
          "output_type": "execute_result",
          "data": {
            "text/plain": [
              "5.0"
            ]
          },
          "metadata": {
            "tags": []
          },
          "execution_count": 23
        }
      ]
    },
    {
      "cell_type": "markdown",
      "metadata": {
        "nbpresent": {
          "id": "451809fa-bae8-406f-8485-e14666da2f9c"
        },
        "id": "wbL0flGw1ufK",
        "colab_type": "text"
      },
      "source": [
        "## Boolean operations\n",
        "\n",
        "- **Boolean expressions** evaluate to True or False\n",
        "- **Boolean operations** answer Yes/No questions"
      ]
    },
    {
      "cell_type": "markdown",
      "metadata": {
        "nbpresent": {
          "id": "a7d93c7f-e613-436d-8ea2-f8eabf37aca1"
        },
        "id": "f4gynxyi1ufK",
        "colab_type": "text"
      },
      "source": [
        "## Comparison operators"
      ]
    },
    {
      "cell_type": "code",
      "metadata": {
        "nbpresent": {
          "id": "9ba65652-2b58-4adc-bb1b-ca556743e198"
        },
        "id": "c36uvF8j1ufL",
        "colab_type": "code",
        "colab": {
          "base_uri": "https://localhost:8080/",
          "height": 34
        },
        "outputId": "4807a5a5-7bcb-4c38-a66f-6fc6565a0326"
      },
      "source": [
        "(2 == 3, 2 < 3, 2 <= 3, 2 != 3)"
      ],
      "execution_count": 30,
      "outputs": [
        {
          "output_type": "execute_result",
          "data": {
            "text/plain": [
              "(False, True, True, True)"
            ]
          },
          "metadata": {
            "tags": []
          },
          "execution_count": 30
        }
      ]
    },
    {
      "cell_type": "markdown",
      "metadata": {
        "nbpresent": {
          "id": "f2db4d92-a6dc-4ce4-973b-623addee60f5"
        },
        "id": "0_7ikMqE1ufN",
        "colab_type": "text"
      },
      "source": [
        "## Container operations"
      ]
    },
    {
      "cell_type": "code",
      "metadata": {
        "nbpresent": {
          "id": "cc07079e-46cf-4b24-8240-0c8f356cf384"
        },
        "id": "SIpHBVNg1ufN",
        "colab_type": "code",
        "colab": {
          "base_uri": "https://localhost:8080/",
          "height": 34
        },
        "outputId": "7eb7aa37-a51d-4205-9dc9-8e85a2df653c"
      },
      "source": [
        "2 in [1,2,3]"
      ],
      "execution_count": 34,
      "outputs": [
        {
          "output_type": "execute_result",
          "data": {
            "text/plain": [
              "True"
            ]
          },
          "metadata": {
            "tags": []
          },
          "execution_count": 34
        }
      ]
    },
    {
      "cell_type": "code",
      "metadata": {
        "nbpresent": {
          "id": "98dc4cf4-0de9-45ac-8056-a6bb98506321"
        },
        "id": "-KkKS7K-1ufO",
        "colab_type": "code",
        "colab": {
          "base_uri": "https://localhost:8080/",
          "height": 34
        },
        "outputId": "647d7f42-27f8-4351-9c22-7023c0aa9ef3"
      },
      "source": [
        "\"a\" in \"Todd\""
      ],
      "execution_count": 33,
      "outputs": [
        {
          "output_type": "execute_result",
          "data": {
            "text/plain": [
              "False"
            ]
          },
          "metadata": {
            "tags": []
          },
          "execution_count": 33
        }
      ]
    },
    {
      "cell_type": "code",
      "metadata": {
        "nbpresent": {
          "id": "de82634e-c310-4316-8db0-1bef201414b6"
        },
        "id": "PE5bhqZb1ufQ",
        "colab_type": "code",
        "colab": {
          "base_uri": "https://localhost:8080/",
          "height": 34
        },
        "outputId": "1a03585a-ed60-4f75-aa7d-a6a5fef3de89"
      },
      "source": [
        "\"t\" not in \"Todd\""
      ],
      "execution_count": 32,
      "outputs": [
        {
          "output_type": "execute_result",
          "data": {
            "text/plain": [
              "True"
            ]
          },
          "metadata": {
            "tags": []
          },
          "execution_count": 32
        }
      ]
    },
    {
      "cell_type": "code",
      "metadata": {
        "nbpresent": {
          "id": "b23fc6af-c8e8-4f21-bfc3-64448f3d209d"
        },
        "scrolled": true,
        "id": "oCAyV1MO1ufS",
        "colab_type": "code",
        "colab": {
          "base_uri": "https://localhost:8080/",
          "height": 34
        },
        "outputId": "76533553-e70b-4773-9107-30f0ea3dc4e5"
      },
      "source": [
        "2 in [1, [2, 3]]"
      ],
      "execution_count": 31,
      "outputs": [
        {
          "output_type": "execute_result",
          "data": {
            "text/plain": [
              "False"
            ]
          },
          "metadata": {
            "tags": []
          },
          "execution_count": 31
        }
      ]
    },
    {
      "cell_type": "markdown",
      "metadata": {
        "nbpresent": {
          "id": "a9702cc1-1da0-4d6b-8198-835ac55fd9eb"
        },
        "id": "9zlRtd8-1ufT",
        "colab_type": "text"
      },
      "source": [
        "### <font color=\"red\"> Exercise 3</font>\n",
        "\n",
        "Why does `2 in [1, [2, 3]]` to `False`?\n"
      ]
    },
    {
      "cell_type": "markdown",
      "metadata": {
        "id": "64EjlNC31ufU",
        "colab_type": "text"
      },
      "source": [
        "The list has two elements: the interger 1 and the list [2,3]. Since 2 is an integer and is not integer 1 nor list [2,3], the expression is evaluated as false."
      ]
    },
    {
      "cell_type": "markdown",
      "metadata": {
        "nbpresent": {
          "id": "8fb5d98c-6b7c-4ffb-8c28-ac5f7a055f1a"
        },
        "id": "P0sdvYRV1ufU",
        "colab_type": "text"
      },
      "source": [
        "## Combining boolean expressions\n",
        "\n",
        "- Use `and`, `or`, and `not`"
      ]
    },
    {
      "cell_type": "code",
      "metadata": {
        "nbpresent": {
          "id": "5b47746d-6823-4b18-bd0a-e87df90e01e7"
        },
        "id": "sIhHdoGe1ufU",
        "colab_type": "code",
        "colab": {
          "base_uri": "https://localhost:8080/",
          "height": 34
        },
        "outputId": "c70da56e-335c-443c-fe52-b1f8f8a83e96"
      },
      "source": [
        "x, name = 5, \"Todd\"\n",
        "x % 2 == 1 and \"a\" in \"Todd\""
      ],
      "execution_count": 62,
      "outputs": [
        {
          "output_type": "execute_result",
          "data": {
            "text/plain": [
              "False"
            ]
          },
          "metadata": {
            "tags": []
          },
          "execution_count": 62
        }
      ]
    },
    {
      "cell_type": "code",
      "metadata": {
        "nbpresent": {
          "id": "298c54dc-9124-4201-beef-67b6d98b4633"
        },
        "id": "IDSica5n1ufW",
        "colab_type": "code",
        "colab": {
          "base_uri": "https://localhost:8080/",
          "height": 34
        },
        "outputId": "c900395f-69fb-4d66-e822-df4255dea068"
      },
      "source": [
        "x % 2 == 1 or \"a\" in \"Todd\""
      ],
      "execution_count": 63,
      "outputs": [
        {
          "output_type": "execute_result",
          "data": {
            "text/plain": [
              "True"
            ]
          },
          "metadata": {
            "tags": []
          },
          "execution_count": 63
        }
      ]
    },
    {
      "cell_type": "code",
      "metadata": {
        "nbpresent": {
          "id": "ae43d805-5f59-4823-bbde-cb86bae63461"
        },
        "id": "0MB3ZVW01ufY",
        "colab_type": "code",
        "colab": {
          "base_uri": "https://localhost:8080/",
          "height": 34
        },
        "outputId": "fbf0e6bc-1cc7-4b04-bba8-348bd6a389d4"
      },
      "source": [
        "not 2 < 3"
      ],
      "execution_count": 64,
      "outputs": [
        {
          "output_type": "execute_result",
          "data": {
            "text/plain": [
              "False"
            ]
          },
          "metadata": {
            "tags": []
          },
          "execution_count": 64
        }
      ]
    },
    {
      "cell_type": "markdown",
      "metadata": {
        "id": "Vr23-zYf1ufa",
        "colab_type": "text"
      },
      "source": [
        "## Conditional Expression\n",
        "\n",
        "* Syntax:"
      ]
    },
    {
      "cell_type": "code",
      "metadata": {
        "id": "PISY-PAE1ufa",
        "colab_type": "code",
        "colab": {
          "base_uri": "https://localhost:8080/",
          "height": 166
        },
        "outputId": "ad87a296-7528-4646-d61b-a1c11d779857"
      },
      "source": [
        "true_val if boolean_condition else false_value"
      ],
      "execution_count": 50,
      "outputs": [
        {
          "output_type": "error",
          "ename": "NameError",
          "evalue": "ignored",
          "traceback": [
            "\u001b[0;31m---------------------------------------------------------------------------\u001b[0m",
            "\u001b[0;31mNameError\u001b[0m                                 Traceback (most recent call last)",
            "\u001b[0;32m<ipython-input-50-3ae810e1a1d8>\u001b[0m in \u001b[0;36m<module>\u001b[0;34m()\u001b[0m\n\u001b[0;32m----> 1\u001b[0;31m \u001b[0mtrue_val\u001b[0m \u001b[0;32mif\u001b[0m \u001b[0mboolean_condition\u001b[0m \u001b[0;32melse\u001b[0m \u001b[0mfalse_value\u001b[0m\u001b[0;34m\u001b[0m\u001b[0;34m\u001b[0m\u001b[0m\n\u001b[0m",
            "\u001b[0;31mNameError\u001b[0m: name 'boolean_condition' is not defined"
          ]
        }
      ]
    },
    {
      "cell_type": "code",
      "metadata": {
        "id": "fVJwOaT51ufc",
        "colab_type": "code",
        "colab": {
          "base_uri": "https://localhost:8080/",
          "height": 36
        },
        "outputId": "4a49b02a-44f7-4508-db6a-7291e3f583a3"
      },
      "source": [
        "\"Has t\" if \"t\" in \"Todd\" else \"No t\""
      ],
      "execution_count": 65,
      "outputs": [
        {
          "output_type": "execute_result",
          "data": {
            "application/vnd.google.colaboratory.intrinsic+json": {
              "type": "string"
            },
            "text/plain": [
              "'No t'"
            ]
          },
          "metadata": {
            "tags": []
          },
          "execution_count": 65
        }
      ]
    },
    {
      "cell_type": "markdown",
      "metadata": {
        "id": "yyZ9h6hN1ufd",
        "colab_type": "text"
      },
      "source": [
        "## Evaluating the conditional expression\n",
        "\n",
        "<img src=\"https://github.com/TWiedRW/module1_lectures/blob/master/img/cond_expr_1.png?raw=1\" width=400 />"
      ]
    },
    {
      "cell_type": "markdown",
      "metadata": {
        "nbpresent": {
          "id": "a9702cc1-1da0-4d6b-8198-835ac55fd9eb"
        },
        "id": "bmSMT5h81ufd",
        "colab_type": "text"
      },
      "source": [
        "### <font color=\"red\"> Exercise 4</font>\n",
        "\n",
        "Evaluate `\"Yes\" if (5 <= x < 10) and (x % 2 == 1) else \"No\"`\n",
        "\n",
        "1. By hand\n",
        "2. With Python\n"
      ]
    },
    {
      "cell_type": "markdown",
      "metadata": {
        "id": "IREPg8YC1ufe",
        "colab_type": "text"
      },
      "source": [
        "1. Evaluate by hand: \n",
        "\n",
        "x is 6 (from above)\n",
        "\n",
        "Expression 1: `5 <= 6 < 10` is True\n",
        "\n",
        "Expression 2: `6 % 2 == 1` is False\n",
        "\n",
        "Is the expression `True and False` True? No. \n",
        "\n",
        "The expression evaluates to \"No\""
      ]
    },
    {
      "cell_type": "code",
      "metadata": {
        "id": "kEQszCkV1ufe",
        "colab_type": "code",
        "colab": {
          "base_uri": "https://localhost:8080/",
          "height": 36
        },
        "outputId": "e887fac7-9c10-44a8-b146-118fed420e0b"
      },
      "source": [
        "# Evaluate with Python\n",
        "x = 6.1\n",
        "\"Yes\" if (5 <= x < 10) and (x % 2 == 1) else \"No\""
      ],
      "execution_count": 66,
      "outputs": [
        {
          "output_type": "execute_result",
          "data": {
            "application/vnd.google.colaboratory.intrinsic+json": {
              "type": "string"
            },
            "text/plain": [
              "'No'"
            ]
          },
          "metadata": {
            "tags": []
          },
          "execution_count": 66
        }
      ]
    },
    {
      "cell_type": "code",
      "metadata": {
        "id": "MVyoNyrD1uff",
        "colab_type": "code",
        "colab": {
          "base_uri": "https://localhost:8080/",
          "height": 34
        },
        "outputId": "6cdd6bc3-266a-41d5-f18c-f582302aad66"
      },
      "source": [
        "x % 2 "
      ],
      "execution_count": 56,
      "outputs": [
        {
          "output_type": "execute_result",
          "data": {
            "text/plain": [
              "1"
            ]
          },
          "metadata": {
            "tags": []
          },
          "execution_count": 56
        }
      ]
    },
    {
      "cell_type": "code",
      "metadata": {
        "id": "NMO6PYjY1ufi",
        "colab_type": "code",
        "colab": {
          "base_uri": "https://localhost:8080/",
          "height": 34
        },
        "outputId": "7ca3a98c-fcc4-42e3-bbd1-c784d21f34ec"
      },
      "source": [
        "x"
      ],
      "execution_count": 68,
      "outputs": [
        {
          "output_type": "execute_result",
          "data": {
            "text/plain": [
              "6.1"
            ]
          },
          "metadata": {
            "tags": []
          },
          "execution_count": 68
        }
      ]
    }
  ]
}