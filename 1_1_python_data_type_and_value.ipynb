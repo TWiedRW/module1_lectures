{
  "nbformat": 4,
  "nbformat_minor": 0,
  "metadata": {
    "anaconda-cloud": {},
    "kernelspec": {
      "display_name": "Python 3",
      "language": "python",
      "name": "python3"
    },
    "language_info": {
      "codemirror_mode": {
        "name": "ipython",
        "version": 3
      },
      "file_extension": ".py",
      "mimetype": "text/x-python",
      "name": "python",
      "nbconvert_exporter": "python",
      "pygments_lexer": "ipython3",
      "version": "3.7.0"
    },
    "colab": {
      "name": "1_1_python_data_type_and_value.ipynb",
      "provenance": [],
      "include_colab_link": true
    }
  },
  "cells": [
    {
      "cell_type": "markdown",
      "metadata": {
        "id": "view-in-github",
        "colab_type": "text"
      },
      "source": [
        "<a href=\"https://colab.research.google.com/github/TWiedRW/module1_lectures/blob/master/1_1_python_data_type_and_value.ipynb\" target=\"_parent\"><img src=\"https://colab.research.google.com/assets/colab-badge.svg\" alt=\"Open In Colab\"/></a>"
      ]
    },
    {
      "cell_type": "markdown",
      "metadata": {
        "id": "Owe4FOOObylB",
        "colab_type": "text"
      },
      "source": [
        "## Python data\n",
        "\n",
        "* All data have a *type* and *value*\n",
        "    * *type* is based off the underlying class\n",
        "    * *value* is returned by the Python interpreter\n",
        "* We can use the `type` function to discover data classes/types"
      ]
    },
    {
      "cell_type": "markdown",
      "metadata": {
        "id": "bx8rShX_bylD",
        "colab_type": "text"
      },
      "source": [
        "#### Value of `\"Hello World\"`"
      ]
    },
    {
      "cell_type": "code",
      "metadata": {
        "id": "5sp-MN9zbylE",
        "colab_type": "code",
        "colab": {
          "base_uri": "https://localhost:8080/",
          "height": 36
        },
        "outputId": "c39815f2-e25e-40c9-80db-214071606991"
      },
      "source": [
        "\"Hello World\""
      ],
      "execution_count": 2,
      "outputs": [
        {
          "output_type": "execute_result",
          "data": {
            "application/vnd.google.colaboratory.intrinsic+json": {
              "type": "string"
            },
            "text/plain": [
              "'Hello World'"
            ]
          },
          "metadata": {
            "tags": []
          },
          "execution_count": 2
        }
      ]
    },
    {
      "cell_type": "markdown",
      "metadata": {
        "id": "tuieVIWkbylL",
        "colab_type": "text"
      },
      "source": [
        "#### Type of `\"Hello World\"`"
      ]
    },
    {
      "cell_type": "code",
      "metadata": {
        "id": "UhxKpavLbylM",
        "colab_type": "code",
        "colab": {
          "base_uri": "https://localhost:8080/",
          "height": 34
        },
        "outputId": "66642fa9-a9d6-49f1-9144-4187e2b9e87a"
      },
      "source": [
        "type(\"Hello World\")"
      ],
      "execution_count": 3,
      "outputs": [
        {
          "output_type": "execute_result",
          "data": {
            "text/plain": [
              "str"
            ]
          },
          "metadata": {
            "tags": []
          },
          "execution_count": 3
        }
      ]
    },
    {
      "cell_type": "code",
      "metadata": {
        "id": "YA0OjKBFbylQ",
        "colab_type": "code",
        "colab": {
          "base_uri": "https://localhost:8080/",
          "height": 34
        },
        "outputId": "f6afc15d-cb3e-4ffa-e567-9fa31d93e4e2"
      },
      "source": [
        "2.5"
      ],
      "execution_count": 4,
      "outputs": [
        {
          "output_type": "execute_result",
          "data": {
            "text/plain": [
              "2.5"
            ]
          },
          "metadata": {
            "tags": []
          },
          "execution_count": 4
        }
      ]
    },
    {
      "cell_type": "code",
      "metadata": {
        "id": "7OT9qrGBbylW",
        "colab_type": "code",
        "colab": {
          "base_uri": "https://localhost:8080/",
          "height": 34
        },
        "outputId": "54cfc25f-82c3-406f-baa1-2ed8153c131a"
      },
      "source": [
        "type(2.5)"
      ],
      "execution_count": 5,
      "outputs": [
        {
          "output_type": "execute_result",
          "data": {
            "text/plain": [
              "float"
            ]
          },
          "metadata": {
            "tags": []
          },
          "execution_count": 5
        }
      ]
    },
    {
      "cell_type": "code",
      "metadata": {
        "scrolled": true,
        "id": "XYhg6ersbylb",
        "colab_type": "code",
        "colab": {
          "base_uri": "https://localhost:8080/",
          "height": 34
        },
        "outputId": "50886b0b-a992-490d-fb26-24a7f53c65b4"
      },
      "source": [
        "17"
      ],
      "execution_count": 6,
      "outputs": [
        {
          "output_type": "execute_result",
          "data": {
            "text/plain": [
              "17"
            ]
          },
          "metadata": {
            "tags": []
          },
          "execution_count": 6
        }
      ]
    },
    {
      "cell_type": "code",
      "metadata": {
        "scrolled": false,
        "id": "RcmRicldbylf",
        "colab_type": "code",
        "colab": {
          "base_uri": "https://localhost:8080/",
          "height": 34
        },
        "outputId": "bb8f7b99-70e3-441b-d6e3-6115be1f59c7"
      },
      "source": [
        "type(17)"
      ],
      "execution_count": 21,
      "outputs": [
        {
          "output_type": "execute_result",
          "data": {
            "text/plain": [
              "int"
            ]
          },
          "metadata": {
            "tags": []
          },
          "execution_count": 21
        }
      ]
    },
    {
      "cell_type": "code",
      "metadata": {
        "scrolled": true,
        "id": "pfBxsve8bylp",
        "colab_type": "code",
        "colab": {
          "base_uri": "https://localhost:8080/",
          "height": 34
        },
        "outputId": "396bdbc8-6a39-48d5-d2d2-8afb8f24d3df"
      },
      "source": [
        "17.0"
      ],
      "execution_count": 22,
      "outputs": [
        {
          "output_type": "execute_result",
          "data": {
            "text/plain": [
              "17.0"
            ]
          },
          "metadata": {
            "tags": []
          },
          "execution_count": 22
        }
      ]
    },
    {
      "cell_type": "markdown",
      "metadata": {
        "id": "pxyLCGMibyl2",
        "colab_type": "text"
      },
      "source": [
        "<font color=\"red\"> <h2> Exercise </h2></font>\n",
        "\n",
        "Investivate the type and value of the following\n",
        "\n",
        "* 2 + 17\n",
        "* 2 + 17.0"
      ]
    },
    {
      "cell_type": "code",
      "metadata": {
        "scrolled": false,
        "id": "74CZqUmzbyl3",
        "colab_type": "code",
        "colab": {
          "base_uri": "https://localhost:8080/",
          "height": 52
        },
        "outputId": "9b8941a5-6fad-4acf-e538-355f799a74ba"
      },
      "source": [
        "print(2+17)\n",
        "type(2+17)"
      ],
      "execution_count": 19,
      "outputs": [
        {
          "output_type": "stream",
          "text": [
            "19\n"
          ],
          "name": "stdout"
        },
        {
          "output_type": "execute_result",
          "data": {
            "text/plain": [
              "int"
            ]
          },
          "metadata": {
            "tags": []
          },
          "execution_count": 19
        }
      ]
    },
    {
      "cell_type": "code",
      "metadata": {
        "id": "uYvqhr4Zel8o",
        "colab_type": "code",
        "colab": {
          "base_uri": "https://localhost:8080/",
          "height": 52
        },
        "outputId": "2261e262-69a2-48ae-d7be-38014f1df0c3"
      },
      "source": [
        "print(2+17.0)\n",
        "type(2+17.0)"
      ],
      "execution_count": 20,
      "outputs": [
        {
          "output_type": "stream",
          "text": [
            "19.0\n"
          ],
          "name": "stdout"
        },
        {
          "output_type": "execute_result",
          "data": {
            "text/plain": [
              "float"
            ]
          },
          "metadata": {
            "tags": []
          },
          "execution_count": 20
        }
      ]
    },
    {
      "cell_type": "markdown",
      "metadata": {
        "id": "BL-lXC0Obyl6",
        "colab_type": "text"
      },
      "source": [
        "## Other basic types\n",
        "\n",
        "* Boolean\n",
        "* None"
      ]
    },
    {
      "cell_type": "code",
      "metadata": {
        "id": "uVsxyekibyl7",
        "colab_type": "code",
        "colab": {
          "base_uri": "https://localhost:8080/",
          "height": 34
        },
        "outputId": "1b5e6aad-52bb-456e-a3f3-95b593a425dd"
      },
      "source": [
        "True"
      ],
      "execution_count": 24,
      "outputs": [
        {
          "output_type": "execute_result",
          "data": {
            "text/plain": [
              "True"
            ]
          },
          "metadata": {
            "tags": []
          },
          "execution_count": 24
        }
      ]
    },
    {
      "cell_type": "code",
      "metadata": {
        "id": "SauJv7itbyl9",
        "colab_type": "code",
        "colab": {
          "base_uri": "https://localhost:8080/",
          "height": 34
        },
        "outputId": "610bdcc8-6e6e-41fd-8188-1843e2aeb66e"
      },
      "source": [
        "type(True)"
      ],
      "execution_count": 25,
      "outputs": [
        {
          "output_type": "execute_result",
          "data": {
            "text/plain": [
              "bool"
            ]
          },
          "metadata": {
            "tags": []
          },
          "execution_count": 25
        }
      ]
    },
    {
      "cell_type": "code",
      "metadata": {
        "id": "YQYPVXMVbyl_",
        "colab_type": "code",
        "colab": {
          "base_uri": "https://localhost:8080/",
          "height": 34
        },
        "outputId": "72b84009-ca29-4885-ab23-7bd6e887c76e"
      },
      "source": [
        "False"
      ],
      "execution_count": 26,
      "outputs": [
        {
          "output_type": "execute_result",
          "data": {
            "text/plain": [
              "False"
            ]
          },
          "metadata": {
            "tags": []
          },
          "execution_count": 26
        }
      ]
    },
    {
      "cell_type": "code",
      "metadata": {
        "id": "CRIUZJPrbymE",
        "colab_type": "code",
        "colab": {
          "base_uri": "https://localhost:8080/",
          "height": 34
        },
        "outputId": "dfb384d5-c2b0-45a3-babe-d1dc006164bc"
      },
      "source": [
        "type(False)"
      ],
      "execution_count": 27,
      "outputs": [
        {
          "output_type": "execute_result",
          "data": {
            "text/plain": [
              "bool"
            ]
          },
          "metadata": {
            "tags": []
          },
          "execution_count": 27
        }
      ]
    },
    {
      "cell_type": "code",
      "metadata": {
        "id": "_Krj4qJhbymI",
        "colab_type": "code",
        "colab": {}
      },
      "source": [
        "None"
      ],
      "execution_count": 32,
      "outputs": []
    },
    {
      "cell_type": "code",
      "metadata": {
        "id": "9Tc18faybymL",
        "colab_type": "code",
        "colab": {
          "base_uri": "https://localhost:8080/",
          "height": 34
        },
        "outputId": "5b808735-67a9-4faa-bb9e-bc578f0c21b0"
      },
      "source": [
        "type(None)"
      ],
      "execution_count": 33,
      "outputs": [
        {
          "output_type": "execute_result",
          "data": {
            "text/plain": [
              "NoneType"
            ]
          },
          "metadata": {
            "tags": []
          },
          "execution_count": 33
        }
      ]
    },
    {
      "cell_type": "markdown",
      "metadata": {
        "id": "IQALX__xbymN",
        "colab_type": "text"
      },
      "source": [
        "## Collection types\n",
        "\n",
        "* Python comes with nice collection types\n",
        "   "
      ]
    },
    {
      "cell_type": "code",
      "metadata": {
        "id": "4_i7_wqWbymN",
        "colab_type": "code",
        "colab": {},
        "outputId": "1710ba8d-73cd-45e3-b360-099b0a5c3aa4"
      },
      "source": [
        "[1,2,3] # Mutatable sequence"
      ],
      "execution_count": null,
      "outputs": [
        {
          "output_type": "execute_result",
          "data": {
            "text/plain": [
              "[1, 2, 3]"
            ]
          },
          "metadata": {
            "tags": []
          },
          "execution_count": 42
        }
      ]
    },
    {
      "cell_type": "code",
      "metadata": {
        "id": "ggxI7OEGbymP",
        "colab_type": "code",
        "colab": {},
        "outputId": "8d145720-02fe-46f8-e4b4-381b9a23b250"
      },
      "source": [
        "type([1,2,3]) # Mutatable sequence"
      ],
      "execution_count": null,
      "outputs": [
        {
          "output_type": "execute_result",
          "data": {
            "text/plain": [
              "list"
            ]
          },
          "metadata": {
            "tags": []
          },
          "execution_count": 43
        }
      ]
    },
    {
      "cell_type": "code",
      "metadata": {
        "id": "Iq9DPv_dbymQ",
        "colab_type": "code",
        "colab": {},
        "outputId": "5b38a74b-ece0-4f2f-80b9-14c50c000fa5"
      },
      "source": [
        "(1,2,3) # Immutable sequence"
      ],
      "execution_count": null,
      "outputs": [
        {
          "output_type": "execute_result",
          "data": {
            "text/plain": [
              "(1, 2, 3)"
            ]
          },
          "metadata": {
            "tags": []
          },
          "execution_count": 44
        }
      ]
    },
    {
      "cell_type": "code",
      "metadata": {
        "id": "gBNVfLlrbymT",
        "colab_type": "code",
        "colab": {},
        "outputId": "de560c39-167e-4773-e5dc-92c60557e07f"
      },
      "source": [
        "type((1,2,3)) # Immutable sequence"
      ],
      "execution_count": null,
      "outputs": [
        {
          "output_type": "execute_result",
          "data": {
            "text/plain": [
              "tuple"
            ]
          },
          "metadata": {
            "tags": []
          },
          "execution_count": 45
        }
      ]
    },
    {
      "cell_type": "code",
      "metadata": {
        "id": "URT_wlhnbymX",
        "colab_type": "code",
        "colab": {
          "base_uri": "https://localhost:8080/",
          "height": 34
        },
        "outputId": "e9e9b0a8-c700-41e4-ebe8-05c141d5c7ec"
      },
      "source": [
        "{\"one\":1, \"two\":2, \"three\":3} # Associative map"
      ],
      "execution_count": 34,
      "outputs": [
        {
          "output_type": "execute_result",
          "data": {
            "text/plain": [
              "{'one': 1, 'three': 3, 'two': 2}"
            ]
          },
          "metadata": {
            "tags": []
          },
          "execution_count": 34
        }
      ]
    },
    {
      "cell_type": "code",
      "metadata": {
        "id": "Wmr01XUDbymb",
        "colab_type": "code",
        "colab": {},
        "outputId": "ad84f055-447c-4add-f73a-54962d2c28a5"
      },
      "source": [
        "type({\"one\":1, \"two\":2, \"three\":3}) # Associative map"
      ],
      "execution_count": null,
      "outputs": [
        {
          "output_type": "execute_result",
          "data": {
            "text/plain": [
              "dict"
            ]
          },
          "metadata": {
            "tags": []
          },
          "execution_count": 47
        }
      ]
    },
    {
      "cell_type": "code",
      "metadata": {
        "id": "cDPOMLFybymc",
        "colab_type": "code",
        "colab": {},
        "outputId": "4f44ce7e-b7ab-49f1-fb94-15f9d7b2d524"
      },
      "source": [
        "{1,2,3} # Unordered collection with unique entries"
      ],
      "execution_count": null,
      "outputs": [
        {
          "output_type": "execute_result",
          "data": {
            "text/plain": [
              "{1, 2, 3}"
            ]
          },
          "metadata": {
            "tags": []
          },
          "execution_count": 48
        }
      ]
    },
    {
      "cell_type": "code",
      "metadata": {
        "id": "AIH9uid6byme",
        "colab_type": "code",
        "colab": {},
        "outputId": "d7a9776f-80fb-4727-b7ce-87082fd403a2"
      },
      "source": [
        "type({1,2,3}) # Unordered collection with unique entries"
      ],
      "execution_count": null,
      "outputs": [
        {
          "output_type": "execute_result",
          "data": {
            "text/plain": [
              "set"
            ]
          },
          "metadata": {
            "tags": []
          },
          "execution_count": 49
        }
      ]
    }
  ]
}